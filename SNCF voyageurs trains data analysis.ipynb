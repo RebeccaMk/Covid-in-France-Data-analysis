{
 "cells": [
  {
   "cell_type": "code",
   "execution_count": 1,
   "id": "7730b1eb",
   "metadata": {},
   "outputs": [],
   "source": [
    "import pandas as pd\n",
    "import matplotlib.pyplot as plt\n",
    "import seaborn as sns"
   ]
  },
  {
   "cell_type": "code",
   "execution_count": 2,
   "id": "dc71e5b1",
   "metadata": {},
   "outputs": [
    {
     "name": "stdout",
     "output_type": "stream",
     "text": [
      "                Nom Gare  Code Gare Type jour        Date  Annee Ligne Axe  \\\n",
      "0                  ABLON   87545269       SAM  2017-04-22   2017     C   C   \n",
      "1                  ABLON   87545269       DIM  2017-04-23   2017     C   C   \n",
      "2                  ABLON   87545269       JOB  2017-04-25   2017     C   C   \n",
      "3                  ABLON   87545269       JOB  2017-04-25   2017     C   C   \n",
      "4  ACHERES-GRAND-CORMIER   87386052       SAM  2022-11-19   2022     A   A   \n",
      "\n",
      "  Tranche horaire  Somme de Montants  \n",
      "0        Avant 6h                 26  \n",
      "1        Avant 6h                  2  \n",
      "2        Avant 6h                 73  \n",
      "3     De 6h à 10h               1288  \n",
      "4    De 10h à 16h                 79  \n"
     ]
    }
   ],
   "source": [
    "# Charger le fichier CSV exporté\n",
    "df = pd.read_csv(\"comptage-voyageurs-trains-transilien.csv\", sep=';')\n",
    "\n",
    "# Afficher les premières lignes\n",
    "print(df.head())"
   ]
  },
  {
   "cell_type": "markdown",
   "id": "7e124de9",
   "metadata": {},
   "source": [
    "#### Data cleaning"
   ]
  },
  {
   "cell_type": "code",
   "execution_count": 3,
   "id": "ea328fec",
   "metadata": {
    "scrolled": false
   },
   "outputs": [
    {
     "data": {
      "text/html": [
       "<div>\n",
       "<style scoped>\n",
       "    .dataframe tbody tr th:only-of-type {\n",
       "        vertical-align: middle;\n",
       "    }\n",
       "\n",
       "    .dataframe tbody tr th {\n",
       "        vertical-align: top;\n",
       "    }\n",
       "\n",
       "    .dataframe thead th {\n",
       "        text-align: right;\n",
       "    }\n",
       "</style>\n",
       "<table border=\"1\" class=\"dataframe\">\n",
       "  <thead>\n",
       "    <tr style=\"text-align: right;\">\n",
       "      <th></th>\n",
       "      <th>Nom Gare</th>\n",
       "      <th>Code Gare</th>\n",
       "      <th>Type jour</th>\n",
       "      <th>Date</th>\n",
       "      <th>Annee</th>\n",
       "      <th>Ligne</th>\n",
       "      <th>Axe</th>\n",
       "      <th>Tranche horaire</th>\n",
       "      <th>Somme de Montants</th>\n",
       "    </tr>\n",
       "  </thead>\n",
       "  <tbody>\n",
       "    <tr>\n",
       "      <th>0</th>\n",
       "      <td>ABLON</td>\n",
       "      <td>87545269</td>\n",
       "      <td>SAM</td>\n",
       "      <td>2017-04-22</td>\n",
       "      <td>2017</td>\n",
       "      <td>C</td>\n",
       "      <td>C</td>\n",
       "      <td>Avant 6h</td>\n",
       "      <td>26</td>\n",
       "    </tr>\n",
       "    <tr>\n",
       "      <th>1</th>\n",
       "      <td>ABLON</td>\n",
       "      <td>87545269</td>\n",
       "      <td>DIM</td>\n",
       "      <td>2017-04-23</td>\n",
       "      <td>2017</td>\n",
       "      <td>C</td>\n",
       "      <td>C</td>\n",
       "      <td>Avant 6h</td>\n",
       "      <td>2</td>\n",
       "    </tr>\n",
       "    <tr>\n",
       "      <th>2</th>\n",
       "      <td>ABLON</td>\n",
       "      <td>87545269</td>\n",
       "      <td>JOB</td>\n",
       "      <td>2017-04-25</td>\n",
       "      <td>2017</td>\n",
       "      <td>C</td>\n",
       "      <td>C</td>\n",
       "      <td>Avant 6h</td>\n",
       "      <td>73</td>\n",
       "    </tr>\n",
       "    <tr>\n",
       "      <th>3</th>\n",
       "      <td>ABLON</td>\n",
       "      <td>87545269</td>\n",
       "      <td>JOB</td>\n",
       "      <td>2017-04-25</td>\n",
       "      <td>2017</td>\n",
       "      <td>C</td>\n",
       "      <td>C</td>\n",
       "      <td>De 6h à 10h</td>\n",
       "      <td>1288</td>\n",
       "    </tr>\n",
       "    <tr>\n",
       "      <th>4</th>\n",
       "      <td>ACHERES-GRAND-CORMIER</td>\n",
       "      <td>87386052</td>\n",
       "      <td>SAM</td>\n",
       "      <td>2022-11-19</td>\n",
       "      <td>2022</td>\n",
       "      <td>A</td>\n",
       "      <td>A</td>\n",
       "      <td>De 10h à 16h</td>\n",
       "      <td>79</td>\n",
       "    </tr>\n",
       "    <tr>\n",
       "      <th>...</th>\n",
       "      <td>...</td>\n",
       "      <td>...</td>\n",
       "      <td>...</td>\n",
       "      <td>...</td>\n",
       "      <td>...</td>\n",
       "      <td>...</td>\n",
       "      <td>...</td>\n",
       "      <td>...</td>\n",
       "      <td>...</td>\n",
       "    </tr>\n",
       "    <tr>\n",
       "      <th>7417</th>\n",
       "      <td>VULAINES-SUR-SEINE-SAMOREAU</td>\n",
       "      <td>87682443</td>\n",
       "      <td>JOB</td>\n",
       "      <td>2023-11-14</td>\n",
       "      <td>2023</td>\n",
       "      <td>R</td>\n",
       "      <td>R</td>\n",
       "      <td>De 10h à 16h</td>\n",
       "      <td>34</td>\n",
       "    </tr>\n",
       "    <tr>\n",
       "      <th>7418</th>\n",
       "      <td>YERRES</td>\n",
       "      <td>87682112</td>\n",
       "      <td>SAM</td>\n",
       "      <td>2024-02-03</td>\n",
       "      <td>2024</td>\n",
       "      <td>D</td>\n",
       "      <td>D</td>\n",
       "      <td>Après 20h</td>\n",
       "      <td>264</td>\n",
       "    </tr>\n",
       "    <tr>\n",
       "      <th>7419</th>\n",
       "      <td>YERRES</td>\n",
       "      <td>87682112</td>\n",
       "      <td>SAM</td>\n",
       "      <td>2024-02-03</td>\n",
       "      <td>2024</td>\n",
       "      <td>D</td>\n",
       "      <td>D</td>\n",
       "      <td>De 10h à 16h</td>\n",
       "      <td>1505</td>\n",
       "    </tr>\n",
       "    <tr>\n",
       "      <th>7420</th>\n",
       "      <td>YERRES</td>\n",
       "      <td>87682112</td>\n",
       "      <td>DIM</td>\n",
       "      <td>2024-03-03</td>\n",
       "      <td>2024</td>\n",
       "      <td>D</td>\n",
       "      <td>D</td>\n",
       "      <td>De 10h à 16h</td>\n",
       "      <td>926</td>\n",
       "    </tr>\n",
       "    <tr>\n",
       "      <th>7421</th>\n",
       "      <td>YERRES</td>\n",
       "      <td>87682112</td>\n",
       "      <td>JOB</td>\n",
       "      <td>2024-05-03</td>\n",
       "      <td>2024</td>\n",
       "      <td>D</td>\n",
       "      <td>D</td>\n",
       "      <td>De 6h à 10h</td>\n",
       "      <td>4345</td>\n",
       "    </tr>\n",
       "  </tbody>\n",
       "</table>\n",
       "<p>7422 rows × 9 columns</p>\n",
       "</div>"
      ],
      "text/plain": [
       "                         Nom Gare  Code Gare Type jour       Date  Annee  \\\n",
       "0                           ABLON   87545269       SAM 2017-04-22   2017   \n",
       "1                           ABLON   87545269       DIM 2017-04-23   2017   \n",
       "2                           ABLON   87545269       JOB 2017-04-25   2017   \n",
       "3                           ABLON   87545269       JOB 2017-04-25   2017   \n",
       "4           ACHERES-GRAND-CORMIER   87386052       SAM 2022-11-19   2022   \n",
       "...                           ...        ...       ...        ...    ...   \n",
       "7417  VULAINES-SUR-SEINE-SAMOREAU   87682443       JOB 2023-11-14   2023   \n",
       "7418                       YERRES   87682112       SAM 2024-02-03   2024   \n",
       "7419                       YERRES   87682112       SAM 2024-02-03   2024   \n",
       "7420                       YERRES   87682112       DIM 2024-03-03   2024   \n",
       "7421                       YERRES   87682112       JOB 2024-05-03   2024   \n",
       "\n",
       "     Ligne Axe Tranche horaire  Somme de Montants  \n",
       "0        C   C        Avant 6h                 26  \n",
       "1        C   C        Avant 6h                  2  \n",
       "2        C   C        Avant 6h                 73  \n",
       "3        C   C     De 6h à 10h               1288  \n",
       "4        A   A    De 10h à 16h                 79  \n",
       "...    ...  ..             ...                ...  \n",
       "7417     R   R    De 10h à 16h                 34  \n",
       "7418     D   D       Après 20h                264  \n",
       "7419     D   D    De 10h à 16h               1505  \n",
       "7420     D   D    De 10h à 16h                926  \n",
       "7421     D   D     De 6h à 10h               4345  \n",
       "\n",
       "[7422 rows x 9 columns]"
      ]
     },
     "execution_count": 3,
     "metadata": {},
     "output_type": "execute_result"
    }
   ],
   "source": [
    "# Conversion des dates et nettoyage\n",
    "df['Date'] = pd.to_datetime(df['Date'], dayfirst=True, errors='coerce')\n",
    "df.dropna(subset=['Date'], inplace=True)\n",
    "\n",
    "df"
   ]
  },
  {
   "cell_type": "markdown",
   "id": "63cf17c2",
   "metadata": {},
   "source": [
    "#### Data exploration"
   ]
  },
  {
   "cell_type": "markdown",
   "id": "70404058",
   "metadata": {},
   "source": [
    "##### Évolution du trafic annuel"
   ]
  },
  {
   "cell_type": "code",
   "execution_count": 4,
   "id": "3b267bcb",
   "metadata": {},
   "outputs": [
    {
     "data": {
      "image/png": "[encoded data removed]",
      "text/plain": [
       "<Figure size 432x288 with 1 Axes>"
      ]
     },
     "metadata": {
      "needs_background": "light"
     },
     "output_type": "display_data"
    }
   ],
   "source": [
    "# Extraction de l'année au format période\n",
    "df['année'] = df['Date'].dt.to_period('Y')\n",
    "\n",
    "# Agrégation par année\n",
    "trafic_annuel = df.groupby('année')['Somme de Montants'].sum()\n",
    "\n",
    "# Tracé du graphique\n",
    "trafic_annuel.plot(kind='line', marker='o', title='Évolution du trafic annuel')\n",
    "plt.xticks(rotation=45)  \n",
    "plt.tight_layout()       \n",
    "plt.show()"
   ]
  },
  {
   "cell_type": "markdown",
   "id": "d4866917",
   "metadata": {},
   "source": [
    "Observation : On observe une baisse de la fréquentation des gares par les voyageurs de 2019 à 2021, on peut supposer que c'est une conséquence de la pandémie du COVID-19. Un pic est en observé en 2023 avec presque 2,5 millions de voyageurs dans les trains Transilien."
   ]
  },
  {
   "cell_type": "markdown",
   "id": "726f63b7",
   "metadata": {},
   "source": [
    "##### Top 10 des gares les plus fréquentées"
   ]
  },
  {
   "cell_type": "code",
   "execution_count": 5,
   "id": "7a5e4c8f",
   "metadata": {},
   "outputs": [
    {
     "data": {
      "image/png": "[encoded data removed]",
      "text/plain": [
       "<Figure size 432x288 with 1 Axes>"
      ]
     },
     "metadata": {
      "needs_background": "light"
     },
     "output_type": "display_data"
    }
   ],
   "source": [
    "top_gares = df.groupby('Nom Gare')['Somme de Montants'].sum().nlargest(10)\n",
    "top_gares.plot(kind='barh', title='Top 10 des gares les plus fréquentées')\n",
    "plt.gca().invert_yaxis()\n",
    "plt.show()\n"
   ]
  },
  {
   "cell_type": "markdown",
   "id": "bdf9102d",
   "metadata": {},
   "source": [
    "Observation : La gare \"Paris Gare du Nord\" est la gare la plus fréquentée (2016-2024) avec plus de 700 000 voyageurs comptabilisés dans les trains."
   ]
  },
  {
   "cell_type": "markdown",
   "id": "891efe38",
   "metadata": {},
   "source": [
    "##### Analyse des jours types"
   ]
  },
  {
   "cell_type": "code",
   "execution_count": 6,
   "id": "5333a109",
   "metadata": {},
   "outputs": [
    {
     "data": {
      "image/png": "[encoded data removed]",
      "text/plain": [
       "<Figure size 432x288 with 1 Axes>"
      ]
     },
     "metadata": {
      "needs_background": "light"
     },
     "output_type": "display_data"
    }
   ],
   "source": [
    "sns.boxplot(x='Type jour', y='Somme de Montants', data=df)\n",
    "plt.title('Distribution du nombre de voyageurs par type de jour')\n",
    "plt.show()"
   ]
  },
  {
   "cell_type": "markdown",
   "id": "d3478b28",
   "metadata": {},
   "source": [
    "La distribution du nombre de voyageurs est assez similaire entre les différents types de jours (SAM = samedi, DIM = dimanche, JOB = jour ouvrable), on observe qu'il y a généralement plus de voyageurs les jours ouvrables que les week-ends."
   ]
  },
  {
   "cell_type": "markdown",
   "id": "592900e8",
   "metadata": {},
   "source": [
    "##### Tableau de bord intéractif"
   ]
  },
  {
   "cell_type": "code",
   "execution_count": 7,
   "id": "e8b499cf",
   "metadata": {
    "scrolled": true
   },
   "outputs": [
    {
     "name": "stdout",
     "output_type": "stream",
     "text": [
      "Requirement already satisfied: dash in /Users/rebeccamukadi/opt/anaconda3/lib/python3.9/site-packages (2.18.2)\n",
      "Requirement already satisfied: Flask<3.1,>=1.0.4 in /Users/rebeccamukadi/opt/anaconda3/lib/python3.9/site-packages (from dash) (1.1.2)\n",
      "Requirement already satisfied: Werkzeug<3.1 in /Users/rebeccamukadi/opt/anaconda3/lib/python3.9/site-packages (from dash) (2.0.3)\n",
      "Requirement already satisfied: plotly>=5.0.0 in /Users/rebeccamukadi/opt/anaconda3/lib/python3.9/site-packages (from dash) (5.6.0)\n",
      "Requirement already satisfied: dash-html-components==2.0.0 in /Users/rebeccamukadi/opt/anaconda3/lib/python3.9/site-packages (from dash) (2.0.0)\n",
      "Requirement already satisfied: dash-core-components==2.0.0 in /Users/rebeccamukadi/opt/anaconda3/lib/python3.9/site-packages (from dash) (2.0.0)\n",
      "Requirement already satisfied: dash-table==5.0.0 in /Users/rebeccamukadi/opt/anaconda3/lib/python3.9/site-packages (from dash) (5.0.0)\n",
      "Requirement already satisfied: importlib-metadata in /Users/rebeccamukadi/opt/anaconda3/lib/python3.9/site-packages (from dash) (4.11.3)\n",
      "Requirement already satisfied: typing-extensions>=4.1.1 in /Users/rebeccamukadi/opt/anaconda3/lib/python3.9/site-packages (from dash) (4.5.0)\n",
      "Requirement already satisfied: requests in /Users/rebeccamukadi/opt/anaconda3/lib/python3.9/site-packages (from dash) (2.27.1)\n",
      "Requirement already satisfied: retrying in /Users/rebeccamukadi/opt/anaconda3/lib/python3.9/site-packages (from dash) (1.3.4)\n",
      "Requirement already satisfied: nest-asyncio in /Users/rebeccamukadi/opt/anaconda3/lib/python3.9/site-packages (from dash) (1.5.5)\n",
      "Requirement already satisfied: setuptools in /Users/rebeccamukadi/opt/anaconda3/lib/python3.9/site-packages (from dash) (75.8.2)\n",
      "Requirement already satisfied: Jinja2>=2.10.1 in /Users/rebeccamukadi/opt/anaconda3/lib/python3.9/site-packages (from Flask<3.1,>=1.0.4->dash) (2.11.3)\n",
      "Requirement already satisfied: itsdangerous>=0.24 in /Users/rebeccamukadi/opt/anaconda3/lib/python3.9/site-packages (from Flask<3.1,>=1.0.4->dash) (2.0.1)\n",
      "Requirement already satisfied: click>=5.1 in /Users/rebeccamukadi/opt/anaconda3/lib/python3.9/site-packages (from Flask<3.1,>=1.0.4->dash) (8.0.4)\n",
      "Requirement already satisfied: tenacity>=6.2.0 in /Users/rebeccamukadi/opt/anaconda3/lib/python3.9/site-packages (from plotly>=5.0.0->dash) (8.0.1)\n",
      "Requirement already satisfied: six in /Users/rebeccamukadi/opt/anaconda3/lib/python3.9/site-packages (from plotly>=5.0.0->dash) (1.16.0)\n",
      "Requirement already satisfied: zipp>=0.5 in /Users/rebeccamukadi/opt/anaconda3/lib/python3.9/site-packages (from importlib-metadata->dash) (3.7.0)\n",
      "Requirement already satisfied: urllib3<1.27,>=1.21.1 in /Users/rebeccamukadi/opt/anaconda3/lib/python3.9/site-packages (from requests->dash) (1.26.9)\n",
      "Requirement already satisfied: certifi>=2017.4.17 in /Users/rebeccamukadi/opt/anaconda3/lib/python3.9/site-packages (from requests->dash) (2021.10.8)\n",
      "Requirement already satisfied: charset-normalizer~=2.0.0 in /Users/rebeccamukadi/opt/anaconda3/lib/python3.9/site-packages (from requests->dash) (2.0.4)\n",
      "Requirement already satisfied: idna<4,>=2.5 in /Users/rebeccamukadi/opt/anaconda3/lib/python3.9/site-packages (from requests->dash) (3.3)\n",
      "Requirement already satisfied: MarkupSafe>=0.23 in /Users/rebeccamukadi/opt/anaconda3/lib/python3.9/site-packages (from Jinja2>=2.10.1->Flask<3.1,>=1.0.4->dash) (2.0.1)\n",
      "Note: you may need to restart the kernel to use updated packages.\n"
     ]
    }
   ],
   "source": [
    "pip install dash"
   ]
  },
  {
   "cell_type": "code",
   "execution_count": 8,
   "id": "1221b075",
   "metadata": {},
   "outputs": [
    {
     "data": {
      "text/html": [
       "\n",
       "        <iframe\n",
       "            width=\"100%\"\n",
       "            height=\"650\"\n",
       "            src=\"http://127.0.0.1:8050/\"\n",
       "            frameborder=\"0\"\n",
       "            allowfullscreen\n",
       "            \n",
       "        ></iframe>\n",
       "        "
      ],
      "text/plain": [
       "<IPython.lib.display.IFrame at 0x7fbab14e2b80>"
      ]
     },
     "metadata": {},
     "output_type": "display_data"
    }
   ],
   "source": [
    "from dash import Dash, html, dcc, Input, Output\n",
    "import plotly.express as px\n",
    "\n",
    "# Charger les données\n",
    "df['Date'] = pd.to_datetime(df['Date'])\n",
    "df['Année'] = df['Date'].dt.year\n",
    "\n",
    "# Initialiser l'application\n",
    "app = Dash(__name__)\n",
    "\n",
    "# Mise en page du tableau de bord\n",
    "app.layout = html.Div([\n",
    "    html.H1(\"📊 Tableau de bord du réseau Transilien\"),\n",
    "    \n",
    "    # Filtre par année\n",
    "    dcc.Dropdown(\n",
    "        id='filtre_annee',\n",
    "        options=[{'label': str(annee), 'value': annee} for annee in df['Année'].unique()],\n",
    "        value=2023,\n",
    "        multi=False,\n",
    "        clearable=False\n",
    "    ),\n",
    "\n",
    "    # Graphique du trafic par gare\n",
    "    dcc.Graph(id='graph_trafic'),\n",
    "\n",
    "    # Indicateurs clés (KPI)\n",
    "    html.Div(id='indicateurs')\n",
    "])\n",
    "\n",
    "# Callback pour mettre à jour les graphiques en fonction du filtre\n",
    "@app.callback(\n",
    "    [Output('graph_trafic', 'figure'),\n",
    "     Output('indicateurs', 'children')],\n",
    "    [Input('filtre_annee', 'value')]\n",
    ")\n",
    "def update_graph(annee):\n",
    "    data_filtre = df[df['Année'] == annee]\n",
    "    \n",
    "    # Graphique du trafic par gare\n",
    "    fig = px.bar(\n",
    "        data_filtre.groupby('Nom Gare')['Somme de Montants'].sum().reset_index(),\n",
    "        x='Somme de Montants',\n",
    "        y='Nom Gare',\n",
    "        orientation='h',\n",
    "        title=f\"Trafic par gare en {annee}\"\n",
    "    )\n",
    "\n",
    "    # Indicateurs clés\n",
    "    total_trafic = data_filtre['Somme de Montants'].sum()\n",
    "    top_gare = data_filtre.groupby('Nom Gare')['Somme de Montants'].sum().idxmax()\n",
    "\n",
    "    indicateurs = html.Div([\n",
    "        html.P(f\"🧑‍🤝‍🧑 Total de voyageurs en {annee} : {total_trafic:,}\"),\n",
    "        html.P(f\"🏆 Gare la plus fréquentée : {top_gare}\")\n",
    "    ])\n",
    "\n",
    "    return fig, indicateurs\n",
    "\n",
    "# Lancer l'application\n",
    "if __name__ == '__main__':\n",
    "    app.run_server(debug=True)\n"
   ]
  },
  {
   "cell_type": "markdown",
   "id": "6c146bf3",
   "metadata": {},
   "source": [
    "Objectif : L'objectif de ce tableau de bord intéractif est de visualiser le traffic et de faire des analyses comparatives entre différentes gares et périodes."
   ]
  },
  {
   "cell_type": "code",
   "execution_count": null,
   "id": "f24eff0f",
   "metadata": {},
   "outputs": [],
   "source": []
  }
 ],
 "metadata": {
  "kernelspec": {
   "display_name": "Python 3 (ipykernel)",
   "language": "python",
   "name": "python3"
  },
  "language_info": {
   "codemirror_mode": {
    "name": "ipython",
    "version": 3
   },
   "file_extension": ".py",
   "mimetype": "text/x-python",
   "name": "python",
   "nbconvert_exporter": "python",
   "pygments_lexer": "ipython3",
   "version": "3.9.12"
  }
 },
 "nbformat": 4,
 "nbformat_minor": 5
}
